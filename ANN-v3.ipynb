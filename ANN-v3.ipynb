{
  "nbformat": 4,
  "nbformat_minor": 0,
  "metadata": {
    "colab": {
      "name": "ANN_Churn.ipynb",
      "version": "0.3.2",
      "provenance": []
    },
    "kernelspec": {
      "name": "python3",
      "display_name": "Python 3"
    },
    "accelerator": "GPU"
  },
  "cells": [
    {
      "cell_type": "code",
      "metadata": {
        "id": "ZCv_HzZ-y709",
        "colab_type": "code",
        "colab": {
          "base_uri": "https://localhost:8080/",
          "height": 74
        },
        "outputId": "2e3f16b6-b14c-4594-f78e-d3d2fb459e98"
      },
      "source": [
        "from google.colab import drive\n",
        "drive.mount('/content/drive')"
      ],
      "execution_count": 4,
      "outputs": [
        {
          "output_type": "stream",
          "text": [
            "Drive already mounted at /content/drive; to attempt to forcibly remount, call drive.mount(\"/content/drive\", force_remount=True).\n"
          ],
          "name": "stdout"
        }
      ]
    },
    {
      "cell_type": "code",
      "metadata": {
        "id": "20KiKFYLBI_Q",
        "colab_type": "code",
        "colab": {}
      },
      "source": [
        "import pandas as pd"
      ],
      "execution_count": 0,
      "outputs": []
    },
    {
      "cell_type": "code",
      "metadata": {
        "id": "QozVWuOzy8rS",
        "colab_type": "code",
        "colab": {}
      },
      "source": [
        "path = \"/content/drive/My Drive/Churn_Modelling.csv\"\n",
        "df = pd.read_csv(path)"
      ],
      "execution_count": 0,
      "outputs": []
    },
    {
      "cell_type": "code",
      "metadata": {
        "id": "-mMLtMjlzvlM",
        "colab_type": "code",
        "colab": {
          "base_uri": "https://localhost:8080/",
          "height": 224
        },
        "outputId": "c0a149c5-5da2-40fe-eaf5-04b77ab138e0"
      },
      "source": [
        "df.head()"
      ],
      "execution_count": 7,
      "outputs": [
        {
          "output_type": "execute_result",
          "data": {
            "text/html": [
              "<div>\n",
              "<style scoped>\n",
              "    .dataframe tbody tr th:only-of-type {\n",
              "        vertical-align: middle;\n",
              "    }\n",
              "\n",
              "    .dataframe tbody tr th {\n",
              "        vertical-align: top;\n",
              "    }\n",
              "\n",
              "    .dataframe thead th {\n",
              "        text-align: right;\n",
              "    }\n",
              "</style>\n",
              "<table border=\"1\" class=\"dataframe\">\n",
              "  <thead>\n",
              "    <tr style=\"text-align: right;\">\n",
              "      <th></th>\n",
              "      <th>RowNumber</th>\n",
              "      <th>CustomerId</th>\n",
              "      <th>Surname</th>\n",
              "      <th>CreditScore</th>\n",
              "      <th>Geography</th>\n",
              "      <th>Gender</th>\n",
              "      <th>Age</th>\n",
              "      <th>Tenure</th>\n",
              "      <th>Balance</th>\n",
              "      <th>NumOfProducts</th>\n",
              "      <th>HasCrCard</th>\n",
              "      <th>IsActiveMember</th>\n",
              "      <th>EstimatedSalary</th>\n",
              "      <th>Exited</th>\n",
              "    </tr>\n",
              "  </thead>\n",
              "  <tbody>\n",
              "    <tr>\n",
              "      <th>0</th>\n",
              "      <td>1</td>\n",
              "      <td>15634602</td>\n",
              "      <td>Hargrave</td>\n",
              "      <td>619</td>\n",
              "      <td>France</td>\n",
              "      <td>Female</td>\n",
              "      <td>42</td>\n",
              "      <td>2</td>\n",
              "      <td>0.00</td>\n",
              "      <td>1</td>\n",
              "      <td>1</td>\n",
              "      <td>1</td>\n",
              "      <td>101348.88</td>\n",
              "      <td>1</td>\n",
              "    </tr>\n",
              "    <tr>\n",
              "      <th>1</th>\n",
              "      <td>2</td>\n",
              "      <td>15647311</td>\n",
              "      <td>Hill</td>\n",
              "      <td>608</td>\n",
              "      <td>Spain</td>\n",
              "      <td>Female</td>\n",
              "      <td>41</td>\n",
              "      <td>1</td>\n",
              "      <td>83807.86</td>\n",
              "      <td>1</td>\n",
              "      <td>0</td>\n",
              "      <td>1</td>\n",
              "      <td>112542.58</td>\n",
              "      <td>0</td>\n",
              "    </tr>\n",
              "    <tr>\n",
              "      <th>2</th>\n",
              "      <td>3</td>\n",
              "      <td>15619304</td>\n",
              "      <td>Onio</td>\n",
              "      <td>502</td>\n",
              "      <td>France</td>\n",
              "      <td>Female</td>\n",
              "      <td>42</td>\n",
              "      <td>8</td>\n",
              "      <td>159660.80</td>\n",
              "      <td>3</td>\n",
              "      <td>1</td>\n",
              "      <td>0</td>\n",
              "      <td>113931.57</td>\n",
              "      <td>1</td>\n",
              "    </tr>\n",
              "    <tr>\n",
              "      <th>3</th>\n",
              "      <td>4</td>\n",
              "      <td>15701354</td>\n",
              "      <td>Boni</td>\n",
              "      <td>699</td>\n",
              "      <td>France</td>\n",
              "      <td>Female</td>\n",
              "      <td>39</td>\n",
              "      <td>1</td>\n",
              "      <td>0.00</td>\n",
              "      <td>2</td>\n",
              "      <td>0</td>\n",
              "      <td>0</td>\n",
              "      <td>93826.63</td>\n",
              "      <td>0</td>\n",
              "    </tr>\n",
              "    <tr>\n",
              "      <th>4</th>\n",
              "      <td>5</td>\n",
              "      <td>15737888</td>\n",
              "      <td>Mitchell</td>\n",
              "      <td>850</td>\n",
              "      <td>Spain</td>\n",
              "      <td>Female</td>\n",
              "      <td>43</td>\n",
              "      <td>2</td>\n",
              "      <td>125510.82</td>\n",
              "      <td>1</td>\n",
              "      <td>1</td>\n",
              "      <td>1</td>\n",
              "      <td>79084.10</td>\n",
              "      <td>0</td>\n",
              "    </tr>\n",
              "  </tbody>\n",
              "</table>\n",
              "</div>"
            ],
            "text/plain": [
              "   RowNumber  CustomerId   Surname  ...  IsActiveMember EstimatedSalary Exited\n",
              "0          1    15634602  Hargrave  ...               1       101348.88      1\n",
              "1          2    15647311      Hill  ...               1       112542.58      0\n",
              "2          3    15619304      Onio  ...               0       113931.57      1\n",
              "3          4    15701354      Boni  ...               0        93826.63      0\n",
              "4          5    15737888  Mitchell  ...               1        79084.10      0\n",
              "\n",
              "[5 rows x 14 columns]"
            ]
          },
          "metadata": {
            "tags": []
          },
          "execution_count": 7
        }
      ]
    },
    {
      "cell_type": "code",
      "metadata": {
        "id": "DJS01BbgzyCv",
        "colab_type": "code",
        "colab": {}
      },
      "source": [
        "import numpy as np\n",
        "import matplotlib.pyplot as plt"
      ],
      "execution_count": 0,
      "outputs": []
    },
    {
      "cell_type": "code",
      "metadata": {
        "id": "bljGr62xz8Bi",
        "colab_type": "code",
        "colab": {
          "base_uri": "https://localhost:8080/",
          "height": 34
        },
        "outputId": "154a7e23-2c5d-4340-aee8-f10d937faf43"
      },
      "source": [
        "df.shape"
      ],
      "execution_count": 9,
      "outputs": [
        {
          "output_type": "execute_result",
          "data": {
            "text/plain": [
              "(10000, 14)"
            ]
          },
          "metadata": {
            "tags": []
          },
          "execution_count": 9
        }
      ]
    },
    {
      "cell_type": "code",
      "metadata": {
        "id": "oTsKp85pz_XO",
        "colab_type": "code",
        "colab": {}
      },
      "source": [
        "X = df.iloc[:, 3:13].values\n",
        "y = df.iloc[:, 13].values"
      ],
      "execution_count": 0,
      "outputs": []
    },
    {
      "cell_type": "code",
      "metadata": {
        "id": "Qpi1gVR40ZkK",
        "colab_type": "code",
        "colab": {}
      },
      "source": [
        "from sklearn.preprocessing import LabelEncoder, OneHotEncoder"
      ],
      "execution_count": 0,
      "outputs": []
    },
    {
      "cell_type": "code",
      "metadata": {
        "id": "knn5cx1G026O",
        "colab_type": "code",
        "colab": {}
      },
      "source": [
        "labelencoder_X_1 = LabelEncoder()\n",
        "X[:, 1] = labelencoder_X_1.fit_transform(X[:, 1])\n",
        "labelencoder_X_2 = LabelEncoder()\n",
        "X[:, 2] = labelencoder_X_2.fit_transform(X[:, 2])"
      ],
      "execution_count": 0,
      "outputs": []
    },
    {
      "cell_type": "code",
      "metadata": {
        "id": "M1gogmaI1pdo",
        "colab_type": "code",
        "colab": {
          "base_uri": "https://localhost:8080/",
          "height": 139
        },
        "outputId": "ba7187e9-24bd-45eb-ec10-e2f79efd5322"
      },
      "source": [
        "onehotencoder = OneHotEncoder(categorical_features = [1])\n",
        "X = onehotencoder.fit_transform(X).toarray()\n",
        "X = X[:,1:]"
      ],
      "execution_count": 13,
      "outputs": [
        {
          "output_type": "stream",
          "text": [
            "/usr/local/lib/python3.6/dist-packages/sklearn/preprocessing/_encoders.py:415: FutureWarning: The handling of integer data will change in version 0.22. Currently, the categories are determined based on the range [0, max(values)], while in the future they will be determined based on the unique values.\n",
            "If you want the future behaviour and silence this warning, you can specify \"categories='auto'\".\n",
            "In case you used a LabelEncoder before this OneHotEncoder to convert the categories to integers, then you can now use the OneHotEncoder directly.\n",
            "  warnings.warn(msg, FutureWarning)\n",
            "/usr/local/lib/python3.6/dist-packages/sklearn/preprocessing/_encoders.py:451: DeprecationWarning: The 'categorical_features' keyword is deprecated in version 0.20 and will be removed in 0.22. You can use the ColumnTransformer instead.\n",
            "  \"use the ColumnTransformer instead.\", DeprecationWarning)\n"
          ],
          "name": "stderr"
        }
      ]
    },
    {
      "cell_type": "code",
      "metadata": {
        "id": "_pAFhBmeAYOr",
        "colab_type": "code",
        "colab": {
          "base_uri": "https://localhost:8080/",
          "height": 34
        },
        "outputId": "a78d59ba-f9d0-4f89-f54e-67b51a327be0"
      },
      "source": [
        "print(y[:10])"
      ],
      "execution_count": 14,
      "outputs": [
        {
          "output_type": "stream",
          "text": [
            "[1 0 1 0 0 1 0 1 0 0]\n"
          ],
          "name": "stdout"
        }
      ]
    },
    {
      "cell_type": "code",
      "metadata": {
        "id": "7vmOxcWz18qb",
        "colab_type": "code",
        "colab": {}
      },
      "source": [
        "from sklearn.model_selection import train_test_split\n",
        "X_train, X_test, y_train, y_test = train_test_split(X, y, test_size = 0.2, random_state = 0)"
      ],
      "execution_count": 0,
      "outputs": []
    },
    {
      "cell_type": "code",
      "metadata": {
        "id": "ZPxzLq_w2f7i",
        "colab_type": "code",
        "colab": {}
      },
      "source": [
        "from sklearn.preprocessing import StandardScaler\n",
        "sc = StandardScaler()\n",
        "X_train = sc.fit_transform(X_train)\n",
        "X_test = sc.transform(X_test)"
      ],
      "execution_count": 0,
      "outputs": []
    },
    {
      "cell_type": "code",
      "metadata": {
        "id": "5B4LsCEj3MCy",
        "colab_type": "code",
        "colab": {
          "base_uri": "https://localhost:8080/",
          "height": 34
        },
        "outputId": "e0f09c4d-86bf-468d-b4aa-608ddc1a8338"
      },
      "source": [
        "import keras \n",
        "from tensorflow.keras.models import Sequential \n",
        "from tensorflow.keras.layers import Dense \n",
        "from tensorflow.keras.layers import Dropout "
      ],
      "execution_count": 17,
      "outputs": [
        {
          "output_type": "stream",
          "text": [
            "Using TensorFlow backend.\n"
          ],
          "name": "stderr"
        }
      ]
    },
    {
      "cell_type": "code",
      "metadata": {
        "id": "AwQZACJ83sDA",
        "colab_type": "code",
        "colab": {
          "base_uri": "https://localhost:8080/",
          "height": 159
        },
        "outputId": "2825fdfe-db7b-44c6-8173-a555fa235609"
      },
      "source": [
        "classifier = Sequential()\n",
        "classifier.add(Dense(units = 6, kernel_initializer = \"uniform\", activation = \"relu\", input_dim = 11 ))\n",
        "classifier.add(Dense(units = 6, kernel_initializer = \"uniform\", activation = \"relu\"))\n",
        "classifier.add(Dense(units = 1, kernel_initializer = \"uniform\", activation = \"sigmoid\"))\n",
        "classifier.compile(optimizer = \"adam\",  loss = 'binary_crossentropy' , metrics=['accuracy'])"
      ],
      "execution_count": 23,
      "outputs": [
        {
          "output_type": "stream",
          "text": [
            "WARNING:tensorflow:From /usr/local/lib/python3.6/dist-packages/tensorflow/python/keras/initializers.py:119: calling RandomUniform.__init__ (from tensorflow.python.ops.init_ops) with dtype is deprecated and will be removed in a future version.\n",
            "Instructions for updating:\n",
            "Call initializer instance with the dtype argument instead of passing it to the constructor\n",
            "WARNING:tensorflow:From /usr/local/lib/python3.6/dist-packages/tensorflow/python/ops/nn_impl.py:180: add_dispatch_support.<locals>.wrapper (from tensorflow.python.ops.array_ops) is deprecated and will be removed in a future version.\n",
            "Instructions for updating:\n",
            "Use tf.where in 2.0, which has the same broadcast rule as np.where\n"
          ],
          "name": "stdout"
        }
      ]
    },
    {
      "cell_type": "code",
      "metadata": {
        "id": "pQaB5Uto3_SZ",
        "colab_type": "code",
        "colab": {
          "base_uri": "https://localhost:8080/",
          "height": 1000
        },
        "outputId": "e3ab8d3f-dcd4-4266-e767-cf0e744e08e6"
      },
      "source": [
        "classifier.fit(X_train, y_train, batch_size = 10, nb_epoch = 100)"
      ],
      "execution_count": 24,
      "outputs": [
        {
          "output_type": "stream",
          "text": [
            "WARNING:tensorflow:The `nb_epoch` argument in `fit` has been renamed `epochs`.\n",
            "Epoch 1/100\n",
            "8000/8000 [==============================] - 3s 346us/sample - loss: 0.4848 - acc: 0.7952\n",
            "Epoch 2/100\n",
            "8000/8000 [==============================] - 2s 252us/sample - loss: 0.4251 - acc: 0.7960\n",
            "Epoch 3/100\n",
            "8000/8000 [==============================] - 2s 240us/sample - loss: 0.4172 - acc: 0.8221\n",
            "Epoch 4/100\n",
            "8000/8000 [==============================] - 2s 236us/sample - loss: 0.4124 - acc: 0.8317\n",
            "Epoch 5/100\n",
            "8000/8000 [==============================] - 2s 237us/sample - loss: 0.4086 - acc: 0.8342\n",
            "Epoch 6/100\n",
            "8000/8000 [==============================] - 2s 238us/sample - loss: 0.4060 - acc: 0.8351\n",
            "Epoch 7/100\n",
            "8000/8000 [==============================] - 2s 233us/sample - loss: 0.4037 - acc: 0.8338\n",
            "Epoch 8/100\n",
            "8000/8000 [==============================] - 2s 242us/sample - loss: 0.4025 - acc: 0.8360\n",
            "Epoch 9/100\n",
            "8000/8000 [==============================] - 2s 246us/sample - loss: 0.4014 - acc: 0.8359\n",
            "Epoch 10/100\n",
            "8000/8000 [==============================] - 2s 241us/sample - loss: 0.4003 - acc: 0.8340\n",
            "Epoch 11/100\n",
            "8000/8000 [==============================] - 2s 240us/sample - loss: 0.3991 - acc: 0.8346\n",
            "Epoch 12/100\n",
            "8000/8000 [==============================] - 2s 237us/sample - loss: 0.3985 - acc: 0.8347\n",
            "Epoch 13/100\n",
            "8000/8000 [==============================] - 2s 241us/sample - loss: 0.3982 - acc: 0.8345\n",
            "Epoch 14/100\n",
            "8000/8000 [==============================] - 2s 243us/sample - loss: 0.3969 - acc: 0.8356\n",
            "Epoch 15/100\n",
            "8000/8000 [==============================] - 2s 241us/sample - loss: 0.3966 - acc: 0.8353\n",
            "Epoch 16/100\n",
            "8000/8000 [==============================] - 2s 246us/sample - loss: 0.3968 - acc: 0.8359\n",
            "Epoch 17/100\n",
            "8000/8000 [==============================] - 2s 235us/sample - loss: 0.3961 - acc: 0.8359\n",
            "Epoch 18/100\n",
            "8000/8000 [==============================] - 2s 235us/sample - loss: 0.3961 - acc: 0.8364\n",
            "Epoch 19/100\n",
            "8000/8000 [==============================] - 2s 243us/sample - loss: 0.3957 - acc: 0.8360\n",
            "Epoch 20/100\n",
            "8000/8000 [==============================] - 2s 233us/sample - loss: 0.3953 - acc: 0.8370\n",
            "Epoch 21/100\n",
            "8000/8000 [==============================] - 2s 233us/sample - loss: 0.3956 - acc: 0.8363\n",
            "Epoch 22/100\n",
            "8000/8000 [==============================] - 2s 235us/sample - loss: 0.3947 - acc: 0.8364\n",
            "Epoch 23/100\n",
            "8000/8000 [==============================] - 2s 236us/sample - loss: 0.3947 - acc: 0.8365\n",
            "Epoch 24/100\n",
            "8000/8000 [==============================] - 2s 236us/sample - loss: 0.3948 - acc: 0.8366\n",
            "Epoch 25/100\n",
            "8000/8000 [==============================] - 2s 236us/sample - loss: 0.3943 - acc: 0.8361\n",
            "Epoch 26/100\n",
            "8000/8000 [==============================] - 2s 238us/sample - loss: 0.3944 - acc: 0.8379\n",
            "Epoch 27/100\n",
            "8000/8000 [==============================] - 2s 235us/sample - loss: 0.3943 - acc: 0.8357\n",
            "Epoch 28/100\n",
            "8000/8000 [==============================] - 2s 242us/sample - loss: 0.3942 - acc: 0.8366\n",
            "Epoch 29/100\n",
            "8000/8000 [==============================] - 2s 240us/sample - loss: 0.3942 - acc: 0.8366\n",
            "Epoch 30/100\n",
            "8000/8000 [==============================] - 2s 243us/sample - loss: 0.3941 - acc: 0.8350\n",
            "Epoch 31/100\n",
            "8000/8000 [==============================] - 2s 248us/sample - loss: 0.3943 - acc: 0.8357\n",
            "Epoch 32/100\n",
            "8000/8000 [==============================] - 2s 240us/sample - loss: 0.3946 - acc: 0.8380\n",
            "Epoch 33/100\n",
            "8000/8000 [==============================] - 2s 242us/sample - loss: 0.3947 - acc: 0.8369\n",
            "Epoch 34/100\n",
            "8000/8000 [==============================] - 2s 240us/sample - loss: 0.3944 - acc: 0.8370\n",
            "Epoch 35/100\n",
            "8000/8000 [==============================] - 2s 244us/sample - loss: 0.3940 - acc: 0.8359\n",
            "Epoch 36/100\n",
            "8000/8000 [==============================] - 2s 236us/sample - loss: 0.3942 - acc: 0.8353\n",
            "Epoch 37/100\n",
            "8000/8000 [==============================] - 2s 238us/sample - loss: 0.3943 - acc: 0.8372\n",
            "Epoch 38/100\n",
            "8000/8000 [==============================] - 2s 238us/sample - loss: 0.3933 - acc: 0.8361\n",
            "Epoch 39/100\n",
            "8000/8000 [==============================] - 2s 240us/sample - loss: 0.3944 - acc: 0.8366\n",
            "Epoch 40/100\n",
            "8000/8000 [==============================] - 2s 253us/sample - loss: 0.3944 - acc: 0.8357\n",
            "Epoch 41/100\n",
            "8000/8000 [==============================] - 2s 252us/sample - loss: 0.3938 - acc: 0.8376\n",
            "Epoch 42/100\n",
            "8000/8000 [==============================] - 2s 246us/sample - loss: 0.3936 - acc: 0.8366\n",
            "Epoch 43/100\n",
            "8000/8000 [==============================] - 2s 245us/sample - loss: 0.3943 - acc: 0.8372\n",
            "Epoch 44/100\n",
            "8000/8000 [==============================] - 2s 246us/sample - loss: 0.3938 - acc: 0.8370\n",
            "Epoch 45/100\n",
            "8000/8000 [==============================] - 2s 248us/sample - loss: 0.3943 - acc: 0.8366\n",
            "Epoch 46/100\n",
            "8000/8000 [==============================] - 2s 245us/sample - loss: 0.3938 - acc: 0.8376\n",
            "Epoch 47/100\n",
            "8000/8000 [==============================] - 2s 233us/sample - loss: 0.3935 - acc: 0.8375\n",
            "Epoch 48/100\n",
            "8000/8000 [==============================] - 2s 236us/sample - loss: 0.3940 - acc: 0.8379\n",
            "Epoch 49/100\n",
            "8000/8000 [==============================] - 2s 245us/sample - loss: 0.3935 - acc: 0.8356\n",
            "Epoch 50/100\n",
            "8000/8000 [==============================] - 2s 237us/sample - loss: 0.3937 - acc: 0.8367\n",
            "Epoch 51/100\n",
            "8000/8000 [==============================] - 2s 242us/sample - loss: 0.3935 - acc: 0.8375\n",
            "Epoch 52/100\n",
            "8000/8000 [==============================] - 2s 237us/sample - loss: 0.3934 - acc: 0.8357\n",
            "Epoch 53/100\n",
            "8000/8000 [==============================] - 2s 240us/sample - loss: 0.3937 - acc: 0.8369\n",
            "Epoch 54/100\n",
            "8000/8000 [==============================] - 2s 241us/sample - loss: 0.3937 - acc: 0.8381\n",
            "Epoch 55/100\n",
            "8000/8000 [==============================] - 2s 235us/sample - loss: 0.3931 - acc: 0.8365\n",
            "Epoch 56/100\n",
            "8000/8000 [==============================] - 2s 240us/sample - loss: 0.3928 - acc: 0.8370\n",
            "Epoch 57/100\n",
            "8000/8000 [==============================] - 2s 241us/sample - loss: 0.3937 - acc: 0.8384\n",
            "Epoch 58/100\n",
            "8000/8000 [==============================] - 2s 234us/sample - loss: 0.3939 - acc: 0.8365\n",
            "Epoch 59/100\n",
            "8000/8000 [==============================] - 2s 240us/sample - loss: 0.3939 - acc: 0.8355\n",
            "Epoch 60/100\n",
            "8000/8000 [==============================] - 2s 241us/sample - loss: 0.3931 - acc: 0.8374\n",
            "Epoch 61/100\n",
            "8000/8000 [==============================] - 2s 241us/sample - loss: 0.3931 - acc: 0.8366\n",
            "Epoch 62/100\n",
            "8000/8000 [==============================] - 2s 235us/sample - loss: 0.3941 - acc: 0.8379\n",
            "Epoch 63/100\n",
            "8000/8000 [==============================] - 2s 241us/sample - loss: 0.3934 - acc: 0.8367\n",
            "Epoch 64/100\n",
            "8000/8000 [==============================] - 2s 237us/sample - loss: 0.3930 - acc: 0.8379\n",
            "Epoch 65/100\n",
            "8000/8000 [==============================] - 2s 244us/sample - loss: 0.3930 - acc: 0.8363\n",
            "Epoch 66/100\n",
            "8000/8000 [==============================] - 2s 242us/sample - loss: 0.3936 - acc: 0.8363\n",
            "Epoch 67/100\n",
            "8000/8000 [==============================] - 2s 249us/sample - loss: 0.3930 - acc: 0.8386\n",
            "Epoch 68/100\n",
            "8000/8000 [==============================] - 2s 242us/sample - loss: 0.3935 - acc: 0.8376\n",
            "Epoch 69/100\n",
            "8000/8000 [==============================] - 2s 238us/sample - loss: 0.3930 - acc: 0.8357\n",
            "Epoch 70/100\n",
            "8000/8000 [==============================] - 2s 237us/sample - loss: 0.3936 - acc: 0.8376\n",
            "Epoch 71/100\n",
            "8000/8000 [==============================] - 2s 242us/sample - loss: 0.3931 - acc: 0.8381\n",
            "Epoch 72/100\n",
            "8000/8000 [==============================] - 2s 245us/sample - loss: 0.3936 - acc: 0.8370\n",
            "Epoch 73/100\n",
            "8000/8000 [==============================] - 2s 239us/sample - loss: 0.3930 - acc: 0.8372\n",
            "Epoch 74/100\n",
            "8000/8000 [==============================] - 2s 238us/sample - loss: 0.3931 - acc: 0.8371\n",
            "Epoch 75/100\n",
            "8000/8000 [==============================] - 2s 246us/sample - loss: 0.3935 - acc: 0.8375\n",
            "Epoch 76/100\n",
            "8000/8000 [==============================] - 2s 245us/sample - loss: 0.3933 - acc: 0.8381\n",
            "Epoch 77/100\n",
            "8000/8000 [==============================] - 2s 241us/sample - loss: 0.3931 - acc: 0.8353\n",
            "Epoch 78/100\n",
            "8000/8000 [==============================] - 2s 237us/sample - loss: 0.3930 - acc: 0.8369\n",
            "Epoch 79/100\n",
            "8000/8000 [==============================] - 2s 243us/sample - loss: 0.3928 - acc: 0.8369\n",
            "Epoch 80/100\n",
            "8000/8000 [==============================] - 2s 240us/sample - loss: 0.3926 - acc: 0.8363\n",
            "Epoch 81/100\n",
            "8000/8000 [==============================] - 2s 241us/sample - loss: 0.3933 - acc: 0.8370\n",
            "Epoch 82/100\n",
            "8000/8000 [==============================] - 2s 245us/sample - loss: 0.3929 - acc: 0.8372\n",
            "Epoch 83/100\n",
            "8000/8000 [==============================] - 2s 241us/sample - loss: 0.3933 - acc: 0.8364\n",
            "Epoch 84/100\n",
            "8000/8000 [==============================] - 2s 242us/sample - loss: 0.3932 - acc: 0.8374\n",
            "Epoch 85/100\n",
            "8000/8000 [==============================] - 2s 243us/sample - loss: 0.3931 - acc: 0.8382\n",
            "Epoch 86/100\n",
            "8000/8000 [==============================] - 2s 240us/sample - loss: 0.3931 - acc: 0.8360\n",
            "Epoch 87/100\n",
            "8000/8000 [==============================] - 2s 245us/sample - loss: 0.3931 - acc: 0.8360\n",
            "Epoch 88/100\n",
            "8000/8000 [==============================] - 2s 242us/sample - loss: 0.3928 - acc: 0.8379\n",
            "Epoch 89/100\n",
            "8000/8000 [==============================] - 2s 236us/sample - loss: 0.3932 - acc: 0.8360\n",
            "Epoch 90/100\n",
            "8000/8000 [==============================] - 2s 242us/sample - loss: 0.3930 - acc: 0.8374\n",
            "Epoch 91/100\n",
            "8000/8000 [==============================] - 2s 239us/sample - loss: 0.3927 - acc: 0.8375\n",
            "Epoch 92/100\n",
            "8000/8000 [==============================] - 2s 235us/sample - loss: 0.3930 - acc: 0.8364\n",
            "Epoch 93/100\n",
            "8000/8000 [==============================] - 2s 243us/sample - loss: 0.3929 - acc: 0.8374\n",
            "Epoch 94/100\n",
            "8000/8000 [==============================] - 2s 236us/sample - loss: 0.3930 - acc: 0.8386\n",
            "Epoch 95/100\n",
            "8000/8000 [==============================] - 2s 237us/sample - loss: 0.3933 - acc: 0.8376\n",
            "Epoch 96/100\n",
            "8000/8000 [==============================] - 2s 239us/sample - loss: 0.3928 - acc: 0.8389\n",
            "Epoch 97/100\n",
            "8000/8000 [==============================] - 2s 240us/sample - loss: 0.3927 - acc: 0.8376\n",
            "Epoch 98/100\n",
            "8000/8000 [==============================] - 2s 237us/sample - loss: 0.3927 - acc: 0.8375\n",
            "Epoch 99/100\n",
            "8000/8000 [==============================] - 2s 244us/sample - loss: 0.3927 - acc: 0.8356\n",
            "Epoch 100/100\n",
            "8000/8000 [==============================] - 2s 239us/sample - loss: 0.3927 - acc: 0.8384\n"
          ],
          "name": "stdout"
        },
        {
          "output_type": "execute_result",
          "data": {
            "text/plain": [
              "<tensorflow.python.keras.callbacks.History at 0x7fad5cc1e320>"
            ]
          },
          "metadata": {
            "tags": []
          },
          "execution_count": 24
        }
      ]
    },
    {
      "cell_type": "code",
      "metadata": {
        "id": "UkYjmunbDHgs",
        "colab_type": "code",
        "colab": {
          "base_uri": "https://localhost:8080/",
          "height": 34
        },
        "outputId": "2b18d4c2-6033-4d3c-9cf2-724585e69913"
      },
      "source": [
        "y_pred = classifier.predict(X_test)\n",
        "y_pred = (y_pred > 0.5)\n",
        "print(y)"
      ],
      "execution_count": 27,
      "outputs": [
        {
          "output_type": "stream",
          "text": [
            "[1 0 1 ... 1 1 0]\n"
          ],
          "name": "stdout"
        }
      ]
    },
    {
      "cell_type": "code",
      "metadata": {
        "id": "kFRTHbPHECfF",
        "colab_type": "code",
        "colab": {}
      },
      "source": [
        "new_prediction = classifier.predict(sc.transform(np.array([[0, 0, 600, 1, 40, 3, 60000, 2, 1, 1, 50000]])))\n",
        "new_prediction = (new_prediction > 0.5)"
      ],
      "execution_count": 0,
      "outputs": []
    },
    {
      "cell_type": "code",
      "metadata": {
        "id": "6yWIByi7EFSG",
        "colab_type": "code",
        "colab": {}
      },
      "source": [
        "from sklearn.metrics import confusion_matrix\n",
        "cm = confusion_matrix(y_test, y_pred)"
      ],
      "execution_count": 0,
      "outputs": []
    },
    {
      "cell_type": "code",
      "metadata": {
        "id": "-j2hC_EVFfRt",
        "colab_type": "code",
        "colab": {}
      },
      "source": [
        "from keras.wrappers.scikit_learn import KerasClassifier\n",
        "from sklearn.model_selection import cross_val_score\n",
        "from keras.models import Sequential\n",
        "from keras.layers import Dense\n",
        "def build_classifier():\n",
        "    classifier = Sequential()\n",
        "    classifier.add(Dense(6, input_dim = 11, kernel_initializer = 'glorot_uniform', activation = 'relu' ))\n",
        "    classifier.add(Dense(6, kernel_initializer = 'glorot_uniform', activation = 'relu' ))\n",
        "    classifier.add(Dense(1, kernel_initializer = 'glorot_uniform', activation = 'sigmoid' ))\n",
        "    classifier.compile(optimizer = 'adam', loss = 'binary_crossentropy', metrics = ['accuracy'])\n",
        "    return classifier\n",
        "\n",
        "classifier = KerasClassifier(build_fn = build_classifier, batch_size = 10, nb_epoch = 100)\n",
        "accuracies = cross_val_score(estimator = classifier, X = X_train, y = y_train, cv = 10, n_jobs = -1)\n",
        "mean = accuracies.mean()\n",
        "variable = accuracies.std()"
      ],
      "execution_count": 0,
      "outputs": []
    },
    {
      "cell_type": "code",
      "metadata": {
        "id": "Dp6WE1pFFkbR",
        "colab_type": "code",
        "colab": {
          "base_uri": "https://localhost:8080/",
          "height": 1000
        },
        "outputId": "f2c0589f-08cf-4509-aca4-b9c4f5b61e94"
      },
      "source": [
        "from keras.wrappers.scikit_learn import KerasClassifier\n",
        "from sklearn.model_selection import GridSearchCV\n",
        "from keras.models import Sequential\n",
        "from keras.layers import Dense\n",
        "def build_classifier(optimzer):\n",
        "    classifier = Sequential()\n",
        "    classifier.add(Dense(6, input_dim = 11, kernel_initializer = 'glorot_uniform', activation = 'relu' ))\n",
        "    classifier.add(Dense(6, kernel_initializer = 'glorot_uniform', activation = 'relu' ))\n",
        "    classifier.add(Dense(1, kernel_initializer = 'glorot_uniform', activation = 'sigmoid' ))\n",
        "    classifier.compile(optimizer = optimzer, loss = 'binary_crossentropy', metrics = ['accuracy'])\n",
        "    return classifier\n",
        "classifier = KerasClassifier(build_fn = build_classifier)\n",
        "parameters = {'batch_size': [25, 32],\n",
        "              'nb_epoch': [100, 500],\n",
        "              'optimzer': ['adam', 'rmsprop']}\n",
        "grid_search = GridSearchCV(estimator = classifier, param_grid = parameters, scoring = 'accuracy', cv = 10)\n",
        "grid_search = grid_search.fit(X_train, y_train)\n",
        "best_parameters = grid_search.best_params_\n",
        "best_accuracy = grid_search.best_score_"
      ],
      "execution_count": 31,
      "outputs": [
        {
          "output_type": "stream",
          "text": [
            "WARNING:tensorflow:From /usr/local/lib/python3.6/dist-packages/keras/backend/tensorflow_backend.py:66: The name tf.get_default_graph is deprecated. Please use tf.compat.v1.get_default_graph instead.\n",
            "\n",
            "WARNING:tensorflow:From /usr/local/lib/python3.6/dist-packages/keras/backend/tensorflow_backend.py:541: The name tf.placeholder is deprecated. Please use tf.compat.v1.placeholder instead.\n",
            "\n",
            "WARNING:tensorflow:From /usr/local/lib/python3.6/dist-packages/keras/backend/tensorflow_backend.py:4432: The name tf.random_uniform is deprecated. Please use tf.random.uniform instead.\n",
            "\n",
            "WARNING:tensorflow:From /usr/local/lib/python3.6/dist-packages/keras/optimizers.py:793: The name tf.train.Optimizer is deprecated. Please use tf.compat.v1.train.Optimizer instead.\n",
            "\n",
            "WARNING:tensorflow:From /usr/local/lib/python3.6/dist-packages/keras/backend/tensorflow_backend.py:3657: The name tf.log is deprecated. Please use tf.math.log instead.\n",
            "\n",
            "WARNING:tensorflow:From /usr/local/lib/python3.6/dist-packages/keras/backend/tensorflow_backend.py:1033: The name tf.assign_add is deprecated. Please use tf.compat.v1.assign_add instead.\n",
            "\n",
            "Epoch 1/1\n",
            "7200/7200 [==============================] - 1s 166us/step - loss: 0.5417 - acc: 0.7629\n",
            "Epoch 1/1\n",
            "7200/7200 [==============================] - 1s 176us/step - loss: 0.6047 - acc: 0.7053\n",
            "Epoch 1/1\n",
            "7200/7200 [==============================] - 1s 174us/step - loss: 0.5404 - acc: 0.7769\n",
            "Epoch 1/1\n",
            "7200/7200 [==============================] - 1s 178us/step - loss: 0.7025 - acc: 0.5569\n",
            "Epoch 1/1\n",
            "7200/7200 [==============================] - 1s 186us/step - loss: 0.6425 - acc: 0.6949\n",
            "Epoch 1/1\n",
            "7200/7200 [==============================] - 1s 190us/step - loss: 0.5542 - acc: 0.7768\n",
            "Epoch 1/1\n",
            "7200/7200 [==============================] - 1s 197us/step - loss: 0.5104 - acc: 0.7969\n",
            "Epoch 1/1\n",
            "7200/7200 [==============================] - 2s 210us/step - loss: 0.6455 - acc: 0.6336\n",
            "Epoch 1/1\n",
            "7200/7200 [==============================] - 2s 216us/step - loss: 0.6878 - acc: 0.6075\n",
            "Epoch 1/1\n",
            "7200/7200 [==============================] - 2s 219us/step - loss: 0.5452 - acc: 0.7706\n",
            "Epoch 1/1\n",
            "7200/7200 [==============================] - 2s 213us/step - loss: 0.5345 - acc: 0.7818\n",
            "Epoch 1/1\n",
            "7200/7200 [==============================] - 2s 218us/step - loss: 0.5546 - acc: 0.7967\n",
            "Epoch 1/1\n",
            "7200/7200 [==============================] - 2s 219us/step - loss: 0.5074 - acc: 0.7926\n",
            "Epoch 1/1\n",
            "7200/7200 [==============================] - 2s 221us/step - loss: 0.6566 - acc: 0.6381\n",
            "Epoch 1/1\n",
            "7200/7200 [==============================] - 2s 230us/step - loss: 0.5319 - acc: 0.7583\n",
            "Epoch 1/1\n",
            "7200/7200 [==============================] - 2s 232us/step - loss: 0.5856 - acc: 0.7563\n",
            "Epoch 1/1\n",
            "7200/7200 [==============================] - 2s 242us/step - loss: 0.5416 - acc: 0.7519\n",
            "Epoch 1/1\n",
            "7200/7200 [==============================] - 2s 248us/step - loss: 0.6807 - acc: 0.6474\n",
            "Epoch 1/1\n",
            "7200/7200 [==============================] - 2s 253us/step - loss: 0.6170 - acc: 0.6990\n",
            "Epoch 1/1\n",
            "7200/7200 [==============================] - 2s 254us/step - loss: 0.7010 - acc: 0.5790\n",
            "Epoch 1/1\n",
            "7200/7200 [==============================] - 2s 273us/step - loss: 0.7319 - acc: 0.5489\n",
            "Epoch 1/1\n",
            "7200/7200 [==============================] - 2s 299us/step - loss: 0.5592 - acc: 0.7538\n",
            "Epoch 1/1\n",
            "7200/7200 [==============================] - 2s 318us/step - loss: 0.5491 - acc: 0.7643\n",
            "Epoch 1/1\n",
            "7200/7200 [==============================] - 2s 311us/step - loss: 0.5513 - acc: 0.7814\n",
            "Epoch 1/1\n",
            "7200/7200 [==============================] - 2s 315us/step - loss: 0.5947 - acc: 0.7397\n",
            "Epoch 1/1\n",
            "7200/7200 [==============================] - 2s 335us/step - loss: 0.5737 - acc: 0.7413\n",
            "Epoch 1/1\n",
            "7200/7200 [==============================] - 2s 345us/step - loss: 0.5032 - acc: 0.7969\n",
            "Epoch 1/1\n",
            "7200/7200 [==============================] - 2s 342us/step - loss: 0.5920 - acc: 0.7379\n",
            "Epoch 1/1\n",
            "7200/7200 [==============================] - 3s 355us/step - loss: 0.5650 - acc: 0.7899\n",
            "Epoch 1/1\n",
            "7200/7200 [==============================] - 3s 353us/step - loss: 0.6438 - acc: 0.6764\n",
            "Epoch 1/1\n",
            "7200/7200 [==============================] - 3s 350us/step - loss: 0.4977 - acc: 0.7971\n",
            "Epoch 1/1\n",
            "7200/7200 [==============================] - 3s 360us/step - loss: 0.7754 - acc: 0.5274\n",
            "Epoch 1/1\n",
            "7200/7200 [==============================] - 3s 356us/step - loss: 0.5244 - acc: 0.7957\n",
            "Epoch 1/1\n",
            "7200/7200 [==============================] - 3s 369us/step - loss: 0.8048 - acc: 0.4940\n",
            "Epoch 1/1\n",
            "7200/7200 [==============================] - 3s 372us/step - loss: 0.6346 - acc: 0.6432\n",
            "Epoch 1/1\n",
            "7200/7200 [==============================] - 3s 389us/step - loss: 0.5823 - acc: 0.7842\n",
            "Epoch 1/1\n",
            "7200/7200 [==============================] - 3s 387us/step - loss: 0.5814 - acc: 0.7235\n",
            "Epoch 1/1\n",
            "7200/7200 [==============================] - 3s 399us/step - loss: 0.5280 - acc: 0.7939\n",
            "Epoch 1/1\n",
            "7200/7200 [==============================] - 3s 411us/step - loss: 0.5384 - acc: 0.7538\n",
            "Epoch 1/1\n",
            "7200/7200 [==============================] - 3s 409us/step - loss: 0.5540 - acc: 0.7489\n",
            "Epoch 1/1\n",
            "7200/7200 [==============================] - 3s 407us/step - loss: 0.5339 - acc: 0.7846\n",
            "Epoch 1/1\n",
            "7200/7200 [==============================] - 3s 412us/step - loss: 0.5285 - acc: 0.7836\n",
            "Epoch 1/1\n",
            "7200/7200 [==============================] - 3s 425us/step - loss: 0.5796 - acc: 0.6914\n",
            "Epoch 1/1\n",
            "7200/7200 [==============================] - 3s 442us/step - loss: 0.6043 - acc: 0.7146\n",
            "Epoch 1/1\n",
            "7200/7200 [==============================] - 3s 451us/step - loss: 0.5894 - acc: 0.7125\n",
            "Epoch 1/1\n",
            "7200/7200 [==============================] - 3s 451us/step - loss: 0.5449 - acc: 0.7503\n",
            "Epoch 1/1\n",
            "7200/7200 [==============================] - 3s 453us/step - loss: 0.5951 - acc: 0.7204\n",
            "Epoch 1/1\n",
            "7200/7200 [==============================] - 3s 456us/step - loss: 0.6467 - acc: 0.6778\n",
            "Epoch 1/1\n",
            "7200/7200 [==============================] - 3s 475us/step - loss: 0.5975 - acc: 0.7286\n",
            "Epoch 1/1\n",
            "7200/7200 [==============================] - 4s 486us/step - loss: 0.6254 - acc: 0.6810\n",
            "Epoch 1/1\n",
            "7200/7200 [==============================] - 3s 473us/step - loss: 0.5386 - acc: 0.7587\n",
            "Epoch 1/1\n",
            "7200/7200 [==============================] - 3s 475us/step - loss: 0.6723 - acc: 0.6125\n",
            "Epoch 1/1\n",
            "7200/7200 [==============================] - 3s 480us/step - loss: 0.6858 - acc: 0.6046\n",
            "Epoch 1/1\n",
            "7200/7200 [==============================] - 3s 485us/step - loss: 0.5947 - acc: 0.7290\n",
            "Epoch 1/1\n",
            "7200/7200 [==============================] - 4s 506us/step - loss: 0.5783 - acc: 0.7421\n",
            "Epoch 1/1\n",
            "7200/7200 [==============================] - 4s 508us/step - loss: 0.6752 - acc: 0.6097\n",
            "Epoch 1/1\n",
            "7200/7200 [==============================] - 4s 516us/step - loss: 0.6230 - acc: 0.6743\n",
            "Epoch 1/1\n",
            "7200/7200 [==============================] - 4s 526us/step - loss: 0.5451 - acc: 0.7947\n",
            "Epoch 1/1\n",
            "7200/7200 [==============================] - 4s 525us/step - loss: 0.5453 - acc: 0.7803\n",
            "Epoch 1/1\n",
            "7200/7200 [==============================] - 4s 530us/step - loss: 0.6269 - acc: 0.6750\n",
            "Epoch 1/1\n",
            "7200/7200 [==============================] - 4s 559us/step - loss: 0.5413 - acc: 0.7631\n",
            "Epoch 1/1\n",
            "7200/7200 [==============================] - 4s 575us/step - loss: 0.5721 - acc: 0.7794\n",
            "Epoch 1/1\n",
            "7200/7200 [==============================] - 4s 580us/step - loss: 0.5923 - acc: 0.7671\n",
            "Epoch 1/1\n",
            "7200/7200 [==============================] - 4s 593us/step - loss: 0.5778 - acc: 0.7819\n",
            "Epoch 1/1\n",
            "7200/7200 [==============================] - 4s 617us/step - loss: 0.6462 - acc: 0.6574\n",
            "Epoch 1/1\n",
            "7200/7200 [==============================] - 4s 607us/step - loss: 0.6370 - acc: 0.6585\n",
            "Epoch 1/1\n",
            "7200/7200 [==============================] - 5s 628us/step - loss: 0.6242 - acc: 0.7157\n",
            "Epoch 1/1\n",
            "7200/7200 [==============================] - 5s 628us/step - loss: 0.5683 - acc: 0.7188\n",
            "Epoch 1/1\n",
            "7200/7200 [==============================] - 5s 635us/step - loss: 0.9452 - acc: 0.3467\n",
            "Epoch 1/1\n",
            "7200/7200 [==============================] - 5s 650us/step - loss: 0.5625 - acc: 0.7760\n",
            "Epoch 1/1\n",
            "7200/7200 [==============================] - 5s 647us/step - loss: 0.5041 - acc: 0.7864\n",
            "Epoch 1/1\n",
            "7200/7200 [==============================] - 5s 731us/step - loss: 0.5743 - acc: 0.7406\n",
            "Epoch 1/1\n",
            "7200/7200 [==============================] - 5s 647us/step - loss: 0.5327 - acc: 0.7956\n",
            "Epoch 1/1\n",
            "7200/7200 [==============================] - 5s 651us/step - loss: 0.5399 - acc: 0.7949\n",
            "Epoch 1/1\n",
            "7200/7200 [==============================] - 5s 672us/step - loss: 0.5547 - acc: 0.7911\n",
            "Epoch 1/1\n",
            "7200/7200 [==============================] - 5s 670us/step - loss: 0.5106 - acc: 0.7944\n",
            "Epoch 1/1\n",
            "7200/7200 [==============================] - 5s 669us/step - loss: 0.5081 - acc: 0.7965\n",
            "Epoch 1/1\n",
            "7200/7200 [==============================] - 5s 682us/step - loss: 0.6101 - acc: 0.6893\n",
            "Epoch 1/1\n",
            "7200/7200 [==============================] - 5s 688us/step - loss: 0.5931 - acc: 0.7185\n",
            "Epoch 1/1\n",
            "7200/7200 [==============================] - 5s 706us/step - loss: 0.5147 - acc: 0.7951\n",
            "Epoch 1/1\n",
            "8000/8000 [==============================] - 6s 713us/step - loss: 0.6177 - acc: 0.6783\n"
          ],
          "name": "stdout"
        }
      ]
    },
    {
      "cell_type": "code",
      "metadata": {
        "id": "OwmRWDV5FwfD",
        "colab_type": "code",
        "colab": {}
      },
      "source": [
        ""
      ],
      "execution_count": 0,
      "outputs": []
    }
  ]
}